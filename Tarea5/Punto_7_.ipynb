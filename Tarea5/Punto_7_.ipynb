{
  "nbformat": 4,
  "nbformat_minor": 0,
  "metadata": {
    "colab": {
      "provenance": [],
      "authorship_tag": "ABX9TyNjKX7IuPeaHZosQFrCTemQ",
      "include_colab_link": true
    },
    "kernelspec": {
      "name": "python3",
      "display_name": "Python 3"
    },
    "language_info": {
      "name": "python"
    }
  },
  "cells": [
    {
      "cell_type": "markdown",
      "metadata": {
        "id": "view-in-github",
        "colab_type": "text"
      },
      "source": [
        "<a href=\"https://colab.research.google.com/github/PedroAlej0/ISIS1225-Laboratorio-3-prueba/blob/main/Tarea5/Punto_7_.ipynb\" target=\"_parent\"><img src=\"https://colab.research.google.com/assets/colab-badge.svg\" alt=\"Open In Colab\"/></a>"
      ]
    },
    {
      "cell_type": "code",
      "execution_count": 1,
      "metadata": {
        "id": "4EbLGEri0CAc"
      },
      "outputs": [],
      "source": [
        "import numpy as np"
      ]
    },
    {
      "cell_type": "code",
      "source": [
        "#proyeccion algebra lineal\n",
        "def proyeccion_subespacion(v,u):\n",
        "  a=np.zeros(np.shape(v))\n",
        "  n=np.shape(u)[0]\n",
        "  for i in range(n):\n",
        "    z=(np.dot(u[i],v)*u[i])/(np.linalg.norm(u[i])**2)\n",
        "    a+=z\n",
        "    print(z)\n",
        "\n",
        "  return a"
      ],
      "metadata": {
        "id": "k9XYNigD0Dd2"
      },
      "execution_count": 24,
      "outputs": []
    },
    {
      "cell_type": "code",
      "source": [
        "v=np.array([-3, -3, 8, 9 ])\n",
        "u=np.array([[3, 1, 0, 1],[1, 2, 1, 1],[-1, 0, 2, -1]])\n",
        "proyeccion_subespacion(v,u)"
      ],
      "metadata": {
        "colab": {
          "base_uri": "https://localhost:8080/"
        },
        "id": "YJX7742-ET9E",
        "outputId": "f8b37c50-9297-4cec-f61f-a9585a2eb501"
      },
      "execution_count": 25,
      "outputs": [
        {
          "output_type": "stream",
          "name": "stdout",
          "text": [
            "[-0.81818182 -0.27272727  0.         -0.27272727]\n",
            "[1.14285714 2.28571429 1.14285714 1.14285714]\n",
            "[-1.66666667  0.          3.33333333 -1.66666667]\n"
          ]
        },
        {
          "output_type": "execute_result",
          "data": {
            "text/plain": [
              "array([-1.34199134,  2.01298701,  4.47619048, -0.7965368 ])"
            ]
          },
          "metadata": {},
          "execution_count": 25
        }
      ]
    },
    {
      "cell_type": "code",
      "source": [
        "Ut=u.T\n",
        "Ut"
      ],
      "metadata": {
        "colab": {
          "base_uri": "https://localhost:8080/"
        },
        "id": "dlA9Cy8XGrzW",
        "outputId": "24563951-fe29-42da-a777-525cf57e5ad0"
      },
      "execution_count": 4,
      "outputs": [
        {
          "output_type": "execute_result",
          "data": {
            "text/plain": [
              "array([[ 3,  1, -1],\n",
              "       [ 1,  2,  0],\n",
              "       [ 0,  1,  2],\n",
              "       [ 1,  1, -1]])"
            ]
          },
          "metadata": {},
          "execution_count": 4
        }
      ]
    },
    {
      "cell_type": "code",
      "source": [
        "def GaussJordan(A_, b_):\n",
        "\n",
        "  A = A_.copy().astype(float)\n",
        "  b = b_.copy().astype(float)\n",
        "  n = A.shape[0]\n",
        "\n",
        "  for i in range(n):\n",
        "    for j in range(i+1,n):\n",
        "      a = A[j,i]/A[i,i]\n",
        "      A[j,:] -= a*A[i,:]\n",
        "      b[j] -= a*b[i]\n",
        "\n",
        "\n",
        "  x = np.zeros_like(b)\n",
        "\n",
        "  for i in reversed(range(n)):\n",
        "\n",
        "    x[i] = b[i]\n",
        "\n",
        "    for j in range(i+1,n):\n",
        "\n",
        "      x[i] -= A[i,j]*x[j]\n",
        "\n",
        "    x[i] /= A[i,i]\n",
        "\n",
        "\n",
        "  return x\n"
      ],
      "metadata": {
        "id": "pWckLUrOI7XV"
      },
      "execution_count": 16,
      "outputs": []
    },
    {
      "cell_type": "code",
      "source": [
        "ATA=np.dot(Ut.T,Ut)\n",
        "b2=np.dot(Ut.T,v)"
      ],
      "metadata": {
        "id": "Wvqr1pi7i90j"
      },
      "execution_count": 20,
      "outputs": []
    },
    {
      "cell_type": "code",
      "source": [
        "sol=GaussJordan(ATA,b2)\n",
        "sol"
      ],
      "metadata": {
        "id": "HzUxTMu1J5d7",
        "colab": {
          "base_uri": "https://localhost:8080/"
        },
        "outputId": "4cd56e81-2854-43a9-bc7f-46395120184c"
      },
      "execution_count": 21,
      "outputs": [
        {
          "output_type": "execute_result",
          "data": {
            "text/plain": [
              "array([-1.,  2.,  1.])"
            ]
          },
          "metadata": {},
          "execution_count": 21
        }
      ]
    },
    {
      "cell_type": "code",
      "source": [
        "#proyeccion inimos cuadrados matriciales\n",
        "np.dot(Ut,sol)"
      ],
      "metadata": {
        "colab": {
          "base_uri": "https://localhost:8080/"
        },
        "id": "U_wyf2GSjcNL",
        "outputId": "36a04dde-66b1-49ea-f893-1c5935608c36"
      },
      "execution_count": 19,
      "outputs": [
        {
          "output_type": "execute_result",
          "data": {
            "text/plain": [
              "array([-2.00000000e+00,  3.00000000e+00,  4.00000000e+00,  1.08420217e-19],\n",
              "      dtype=float128)"
            ]
          },
          "metadata": {},
          "execution_count": 19
        }
      ]
    },
    {
      "cell_type": "code",
      "source": [
        "def gram_schmidt(vectors):\n",
        "    num_vectors = vectors.shape[0]\n",
        "    ortogonal = []\n",
        "    for i in range(num_vectors):\n",
        "        vec = vectors[i]\n",
        "        for v in ortogonal:\n",
        "            proj = np.dot(vec, v) / np.dot(v, v) * v\n",
        "            vec = vec - proj\n",
        "        ortogonal.append(vec)\n",
        "    ortogonal = np.array(ortogonal)\n",
        "    return ortogonal\n"
      ],
      "metadata": {
        "colab": {
          "base_uri": "https://localhost:8080/"
        },
        "id": "C65gHgZmwDEw",
        "outputId": "4193840a-d0b9-46bf-d854-f927997b73b4"
      },
      "execution_count": 90,
      "outputs": [
        {
          "output_type": "stream",
          "name": "stdout",
          "text": [
            "Vectores ortogonales:\n",
            "[[ 3.          1.          0.          1.        ]\n",
            " [-0.63636364  1.45454545  1.          0.45454545]\n",
            " [ 0.46341463 -0.48780488  1.41463415 -0.90243902]]\n"
          ]
        }
      ]
    },
    {
      "cell_type": "code",
      "source": [
        "u = np.array([\n",
        "    [3, 1, 0, 1],\n",
        "    [1, 2, 1, 1],\n",
        "    [-1, 0, 2, -1]])\n",
        "\n",
        "\n",
        "ortogonal = gram_schmidt(u)\n",
        "ortogonal"
      ],
      "metadata": {
        "colab": {
          "base_uri": "https://localhost:8080/"
        },
        "id": "EASeI5H31-N5",
        "outputId": "5f033204-8d7d-4e43-f9b8-34f913a445a5"
      },
      "execution_count": 100,
      "outputs": [
        {
          "output_type": "execute_result",
          "data": {
            "text/plain": [
              "array([[ 3.        ,  1.        ,  0.        ,  1.        ],\n",
              "       [-0.63636364,  1.45454545,  1.        ,  0.45454545],\n",
              "       [ 0.46341463, -0.48780488,  1.41463415, -0.90243902]])"
            ]
          },
          "metadata": {},
          "execution_count": 100
        }
      ]
    },
    {
      "cell_type": "code",
      "source": [
        "print(np.dot(ortogonal[0],ortogonal[1]))\n",
        "print(np.dot(ortogonal[1],ortogonal[2]))\n",
        "print(np.dot(ortogonal[0],ortogonal[2]))\n",
        "\n",
        "#"
      ],
      "metadata": {
        "colab": {
          "base_uri": "https://localhost:8080/"
        },
        "id": "HQL9pDpd2Dtp",
        "outputId": "71cbae9f-4321-47b1-e7f3-6842e78b0d0f"
      },
      "execution_count": 98,
      "outputs": [
        {
          "output_type": "stream",
          "name": "stdout",
          "text": [
            "4.440892098500626e-16\n",
            "-1.1102230246251565e-16\n",
            "-5.551115123125783e-16\n"
          ]
        }
      ]
    },
    {
      "cell_type": "code",
      "source": [
        "for i in range(ortogonal.shape[0]):\n",
        "\n",
        "    ortogonal[i]=ortogonal[i]/np.linalg.norm(ortogonal[i])\n",
        "\n",
        "ortogonal\n",
        ""
      ],
      "metadata": {
        "colab": {
          "base_uri": "https://localhost:8080/"
        },
        "id": "LpuiMOhl2mT0",
        "outputId": "1a545efd-5bb8-449c-fcbc-06473aca74a0"
      },
      "execution_count": 102,
      "outputs": [
        {
          "output_type": "execute_result",
          "data": {
            "text/plain": [
              "array([[ 0.90453403,  0.30151134,  0.        ,  0.30151134],\n",
              "       [-0.32961713,  0.75341057,  0.51796977,  0.2354408 ],\n",
              "       [ 0.25633581, -0.26982716,  0.78249877, -0.49918025]])"
            ]
          },
          "metadata": {},
          "execution_count": 102
        }
      ]
    },
    {
      "cell_type": "code",
      "source": [
        "print(np.linalg.norm(ortogonal[0]))\n",
        "print(np.linalg.norm(ortogonal[1]))\n",
        "print(np.linalg.norm(ortogonal[2]))\n"
      ],
      "metadata": {
        "colab": {
          "base_uri": "https://localhost:8080/"
        },
        "id": "XYviSvAo3Cks",
        "outputId": "9497d81d-01b5-4134-f99e-7845071e7312"
      },
      "execution_count": 103,
      "outputs": [
        {
          "output_type": "stream",
          "name": "stdout",
          "text": [
            "1.0\n",
            "1.0\n",
            "1.0\n"
          ]
        }
      ]
    },
    {
      "cell_type": "code",
      "source": [
        "c=np.zeros(np.shape(ortogonal)[0])\n",
        "v=np.array([-3, -3, 8, 9 ])"
      ],
      "metadata": {
        "id": "1o8fi3YC3U08"
      },
      "execution_count": 106,
      "outputs": []
    },
    {
      "cell_type": "code",
      "source": [
        "for i in range(np.shape(ortogonal)[0]):\n",
        "    c[i]=np.dot(ortogonal[i],v)\n",
        "c"
      ],
      "metadata": {
        "colab": {
          "base_uri": "https://localhost:8080/"
        },
        "id": "yQ_vq12u3f94",
        "outputId": "59af6d71-bb6f-4133-a4f2-93abc33d28f7"
      },
      "execution_count": 108,
      "outputs": [
        {
          "output_type": "execute_result",
          "data": {
            "text/plain": [
              "array([-0.90453403,  4.99134506,  1.807842  ])"
            ]
          },
          "metadata": {},
          "execution_count": 108
        }
      ]
    },
    {
      "cell_type": "code",
      "source": [
        "#proyeccion base ortonormalizada,  Grand-Schmidt\n",
        "pw=np.zeros(np.shape(v))\n",
        "for i in range(np.shape(ortogonal)[0] ):\n",
        "    pw+=c[i]*ortogonal[i]\n",
        "pw\n"
      ],
      "metadata": {
        "colab": {
          "base_uri": "https://localhost:8080/"
        },
        "id": "mAC9cX0V3gXx",
        "outputId": "7a658246-8a4f-4913-a0f2-970dcb0af659"
      },
      "execution_count": 114,
      "outputs": [
        {
          "output_type": "execute_result",
          "data": {
            "text/plain": [
              "array([-2.00000000e+00,  3.00000000e+00,  4.00000000e+00, -1.11022302e-16])"
            ]
          },
          "metadata": {},
          "execution_count": 114
        }
      ]
    },
    {
      "cell_type": "code",
      "source": [],
      "metadata": {
        "id": "1y4Vr4_h3yLo"
      },
      "execution_count": 111,
      "outputs": []
    }
  ]
}