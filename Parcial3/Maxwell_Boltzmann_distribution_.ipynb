{
  "nbformat": 4,
  "nbformat_minor": 0,
  "metadata": {
    "colab": {
      "provenance": [],
      "authorship_tag": "ABX9TyODn8wHLDhmkvwB253u/Gey",
      "include_colab_link": true
    },
    "kernelspec": {
      "name": "python3",
      "display_name": "Python 3"
    },
    "language_info": {
      "name": "python"
    }
  },
  "cells": [
    {
      "cell_type": "markdown",
      "metadata": {
        "id": "view-in-github",
        "colab_type": "text"
      },
      "source": [
        "<a href=\"https://colab.research.google.com/github/PedroAlej0/ISIS1225-Laboratorio-3-prueba/blob/main/Parcial3/Maxwell_Boltzmann_distribution_.ipynb\" target=\"_parent\"><img src=\"https://colab.research.google.com/assets/colab-badge.svg\" alt=\"Open In Colab\"/></a>"
      ]
    },
    {
      "cell_type": "code",
      "source": [
        "\n",
        "!pip install emcee\n",
        "!pip install corner"
      ],
      "metadata": {
        "colab": {
          "base_uri": "https://localhost:8080/"
        },
        "id": "DRlAPmW8Vmoo",
        "outputId": "45f33c60-4226-4a1e-afe7-164a6b70e237"
      },
      "execution_count": 158,
      "outputs": [
        {
          "output_type": "stream",
          "name": "stdout",
          "text": [
            "Collecting emcee\n",
            "  Downloading emcee-3.1.6-py2.py3-none-any.whl.metadata (3.0 kB)\n",
            "Requirement already satisfied: numpy in /usr/local/lib/python3.10/dist-packages (from emcee) (1.26.4)\n",
            "Downloading emcee-3.1.6-py2.py3-none-any.whl (47 kB)\n",
            "\u001b[?25l   \u001b[90m━━━━━━━━━━━━━━━━━━━━━━━━━━━━━━━━━━━━━━━━\u001b[0m \u001b[32m0.0/47.4 kB\u001b[0m \u001b[31m?\u001b[0m eta \u001b[36m-:--:--\u001b[0m\r\u001b[2K   \u001b[90m━━━━━━━━━━━━━━━━━━━━━━━━━━━━━━━━━━━━━━━━\u001b[0m \u001b[32m47.4/47.4 kB\u001b[0m \u001b[31m2.8 MB/s\u001b[0m eta \u001b[36m0:00:00\u001b[0m\n",
            "\u001b[?25hInstalling collected packages: emcee\n",
            "Successfully installed emcee-3.1.6\n",
            "Collecting corner\n",
            "  Downloading corner-2.2.3-py3-none-any.whl.metadata (2.2 kB)\n",
            "Requirement already satisfied: matplotlib>=2.1 in /usr/local/lib/python3.10/dist-packages (from corner) (3.8.0)\n",
            "Requirement already satisfied: contourpy>=1.0.1 in /usr/local/lib/python3.10/dist-packages (from matplotlib>=2.1->corner) (1.3.1)\n",
            "Requirement already satisfied: cycler>=0.10 in /usr/local/lib/python3.10/dist-packages (from matplotlib>=2.1->corner) (0.12.1)\n",
            "Requirement already satisfied: fonttools>=4.22.0 in /usr/local/lib/python3.10/dist-packages (from matplotlib>=2.1->corner) (4.55.0)\n",
            "Requirement already satisfied: kiwisolver>=1.0.1 in /usr/local/lib/python3.10/dist-packages (from matplotlib>=2.1->corner) (1.4.7)\n",
            "Requirement already satisfied: numpy<2,>=1.21 in /usr/local/lib/python3.10/dist-packages (from matplotlib>=2.1->corner) (1.26.4)\n",
            "Requirement already satisfied: packaging>=20.0 in /usr/local/lib/python3.10/dist-packages (from matplotlib>=2.1->corner) (24.2)\n",
            "Requirement already satisfied: pillow>=6.2.0 in /usr/local/lib/python3.10/dist-packages (from matplotlib>=2.1->corner) (11.0.0)\n",
            "Requirement already satisfied: pyparsing>=2.3.1 in /usr/local/lib/python3.10/dist-packages (from matplotlib>=2.1->corner) (3.2.0)\n",
            "Requirement already satisfied: python-dateutil>=2.7 in /usr/local/lib/python3.10/dist-packages (from matplotlib>=2.1->corner) (2.8.2)\n",
            "Requirement already satisfied: six>=1.5 in /usr/local/lib/python3.10/dist-packages (from python-dateutil>=2.7->matplotlib>=2.1->corner) (1.16.0)\n",
            "Downloading corner-2.2.3-py3-none-any.whl (15 kB)\n",
            "Installing collected packages: corner\n",
            "Successfully installed corner-2.2.3\n"
          ]
        }
      ]
    },
    {
      "cell_type": "code",
      "execution_count": 159,
      "metadata": {
        "id": "iTxaIN4Alxji"
      },
      "outputs": [],
      "source": [
        "import numpy as np\n",
        "import requests\n",
        "import matplotlib.pyplot as plt\n",
        "from scipy import integrate\n",
        "from IPython.display import clear_output\n",
        "import time\n",
        "import emcee\n",
        "import corner\n",
        "import os"
      ]
    },
    {
      "cell_type": "code",
      "source": [
        "def LogPrior(p):\n",
        "\n",
        "  if 0 < p < 400 :\n",
        "    return 0.0\n",
        "  else:\n",
        "    return -np.inf"
      ],
      "metadata": {
        "id": "gFV7ZfbeVygU"
      },
      "execution_count": 161,
      "outputs": []
    },
    {
      "cell_type": "code",
      "source": [
        "\n",
        "url = \"https://raw.githubusercontent.com/asegura4488/Database/main/MetodosComputacionalesReforma/Maxwell.csv\"\n",
        "\n",
        "response = requests.get(url)"
      ],
      "metadata": {
        "id": "q6GkXWkil1ij"
      },
      "execution_count": 2,
      "outputs": []
    },
    {
      "cell_type": "code",
      "source": [
        "contenido = response.text"
      ],
      "metadata": {
        "id": "CB1YS5rfmdHB"
      },
      "execution_count": 3,
      "outputs": []
    },
    {
      "cell_type": "code",
      "source": [],
      "metadata": {
        "id": "q_G09uhFmd4c"
      },
      "execution_count": 3,
      "outputs": []
    },
    {
      "cell_type": "code",
      "source": [
        "datos=(np.array(contenido.split(\"\\n\")[1:-1])).astype(float)"
      ],
      "metadata": {
        "id": "cSXP5y5Hmkhj"
      },
      "execution_count": 4,
      "outputs": []
    },
    {
      "cell_type": "code",
      "source": [
        "datos"
      ],
      "metadata": {
        "colab": {
          "base_uri": "https://localhost:8080/"
        },
        "id": "H3WTG-TxmytN",
        "outputId": "c6271ffb-2080-49c2-ae29-be7999a50ba1"
      },
      "execution_count": 5,
      "outputs": [
        {
          "output_type": "execute_result",
          "data": {
            "text/plain": [
              "array([547.26577301, 449.92041803, 773.81438168, ..., 594.98139795,\n",
              "       376.38861535, 539.81313978])"
            ]
          },
          "metadata": {},
          "execution_count": 5
        }
      ]
    },
    {
      "cell_type": "code",
      "source": [
        "def likelihood(v,T):\n",
        "  M = 0.028#densidad por mol\n",
        "\n",
        "  k_B = 8.31\n",
        "  m = 0.028 #suponga tenemos un mol\n",
        "  m = m\n",
        "  factor = (m / (2 * np.pi * k_B * T)) ** 1.5\n",
        "  return (factor * 4 * np.pi * v**2 * np.exp(-m * v**2 / (2 * k_B * T)))"
      ],
      "metadata": {
        "id": "TcNVrQ4lpiPD"
      },
      "execution_count": 65,
      "outputs": []
    },
    {
      "cell_type": "code",
      "source": [
        "plt.hist(datos, bins=60, density=True, color='blue', alpha=0.7, edgecolor='black')\n",
        "plt.title('Histograma de Frecuencia Relativa')\n",
        "plt.xlabel('Velocidad [m/s]')\n",
        "plt.ylabel('Frecuencia Relativa')\n",
        "\n",
        "\n",
        "plt.grid(alpha=0.3)\n",
        "plt.show()\n"
      ],
      "metadata": {
        "colab": {
          "base_uri": "https://localhost:8080/",
          "height": 472
        },
        "id": "vsLuqK3LnxxV",
        "outputId": "1f9e0f58-1c85-4e4d-fd89-50a99c90b6b2"
      },
      "execution_count": 101,
      "outputs": [
        {
          "output_type": "display_data",
          "data": {
            "text/plain": [
              "<Figure size 640x480 with 1 Axes>"
            ],
            "image/png": "[encoded data removed]"
          },
          "metadata": {}
        }
      ]
    },
    {
      "cell_type": "code",
      "source": [
        "frecuencias, limites_bins = np.histogram(datos, bins=60, density=True)\n"
      ],
      "metadata": {
        "id": "tbXPDe8AoIoz"
      },
      "execution_count": 7,
      "outputs": []
    },
    {
      "cell_type": "code",
      "source": [
        "ancho_bin = limites_bins[1] - limites_bins[0]\n",
        "\n",
        "\n",
        "puntos_medios = (limites_bins[:-1] + limites_bins[1:]) / 2\n",
        "\n",
        "promedio_empirico = np.sum(puntos_medios * frecuencias * ancho_bin)"
      ],
      "metadata": {
        "id": "-Wt4WJV5pRd-"
      },
      "execution_count": 8,
      "outputs": []
    },
    {
      "cell_type": "code",
      "source": [
        "promedio_empirico"
      ],
      "metadata": {
        "colab": {
          "base_uri": "https://localhost:8080/"
        },
        "id": "NeEFjWhypWHb",
        "outputId": "a87265cc-5fc2-4419-85d7-450715985586"
      },
      "execution_count": 9,
      "outputs": [
        {
          "output_type": "execute_result",
          "data": {
            "text/plain": [
              "472.15396170782543"
            ]
          },
          "metadata": {},
          "execution_count": 9
        }
      ]
    },
    {
      "cell_type": "code",
      "source": [
        "#comparemos con el promedio de datos natural\n",
        "np.sum(datos)/len(datos)"
      ],
      "metadata": {
        "colab": {
          "base_uri": "https://localhost:8080/"
        },
        "id": "RuueqESKpXCB",
        "outputId": "b903a65a-a5a5-41a3-d2a1-aa53ef38aa55"
      },
      "execution_count": 10,
      "outputs": [
        {
          "output_type": "execute_result",
          "data": {
            "text/plain": [
              "472.17578290610606"
            ]
          },
          "metadata": {},
          "execution_count": 10
        }
      ]
    },
    {
      "cell_type": "code",
      "source": [
        "len(datos)"
      ],
      "metadata": {
        "colab": {
          "base_uri": "https://localhost:8080/"
        },
        "id": "iYSCROi7s8nE",
        "outputId": "63a2c108-49e4-4e92-e0a4-3b35b0c05913"
      },
      "execution_count": 11,
      "outputs": [
        {
          "output_type": "execute_result",
          "data": {
            "text/plain": [
              "3000"
            ]
          },
          "metadata": {},
          "execution_count": 11
        }
      ]
    },
    {
      "cell_type": "code",
      "source": [
        "def joint(T,v):\n",
        "  z=0\n",
        "  for i in range(len(v)):\n",
        "    z+=np.log((likelihood(v[i],T)))\n",
        "  return -z"
      ],
      "metadata": {
        "id": "zeW7ldNXrRJM"
      },
      "execution_count": 113,
      "outputs": []
    },
    {
      "cell_type": "code",
      "source": [
        "from scipy.optimize import minimize\n",
        "a=minimize(joint,300,args=(datos))\n",
        "a[\"x\"]"
      ],
      "metadata": {
        "colab": {
          "base_uri": "https://localhost:8080/"
        },
        "id": "Pho2yQtXrhU_",
        "outputId": "9af1aaf9-e071-4412-8113-69fedab0edc3"
      },
      "execution_count": 114,
      "outputs": [
        {
          "output_type": "execute_result",
          "data": {
            "text/plain": [
              "array([297.89577325])"
            ]
          },
          "metadata": {},
          "execution_count": 114
        }
      ]
    },
    {
      "cell_type": "code",
      "source": [
        "a[\"x\"][0]"
      ],
      "metadata": {
        "colab": {
          "base_uri": "https://localhost:8080/"
        },
        "id": "wfyrB8sn8sBa",
        "outputId": "aa287356-60a7-44f4-f108-714bfcdf7348"
      },
      "execution_count": 100,
      "outputs": [
        {
          "output_type": "execute_result",
          "data": {
            "text/plain": [
              "297.8957732524406"
            ]
          },
          "metadata": {},
          "execution_count": 100
        }
      ]
    },
    {
      "cell_type": "code",
      "source": [
        "plt.hist(datos, bins=60, density=True, color='blue', alpha=0.7, edgecolor='black')\n",
        "plt.title('Histograma de Frecuencia Relativa')\n",
        "plt.xlabel('Velocidad [m/s]')\n",
        "plt.ylabel('Frecuencia Relativa')\n",
        "x=np.linspace(0,1200,120)\n",
        "plt.plot(x,likelihood(x,a[\"x\"][0] ),color='r')\n",
        "\n",
        "plt.grid(alpha=0.3)\n",
        "plt.show()\n"
      ],
      "metadata": {
        "colab": {
          "base_uri": "https://localhost:8080/",
          "height": 472
        },
        "id": "YU9PGB944L6Z",
        "outputId": "9b34f236-ff2d-4c81-b8d8-c32274c9ebd8"
      },
      "execution_count": 102,
      "outputs": [
        {
          "output_type": "display_data",
          "data": {
            "text/plain": [
              "<Figure size 640x480 with 1 Axes>"
            ],
            "image/png": "[encoded data removed]"
          },
          "metadata": {}
        }
      ]
    },
    {
      "cell_type": "code",
      "source": [
        "#velocidad más probable:\n",
        "vp=np.sqrt((2*a[\"x\"][0]*8.314)/0.028)\n",
        "vp"
      ],
      "metadata": {
        "colab": {
          "base_uri": "https://localhost:8080/"
        },
        "id": "leDVT3NC9XF3",
        "outputId": "d2322e5c-2395-4f90-a347-d06d84ed8459"
      },
      "execution_count": 121,
      "outputs": [
        {
          "output_type": "execute_result",
          "data": {
            "text/plain": [
              "420.60377170552533"
            ]
          },
          "metadata": {},
          "execution_count": 121
        }
      ]
    },
    {
      "cell_type": "code",
      "source": [
        "#Calcule la velocidad promedio\n",
        "vpp=vp*2/np.sqrt(np.pi)\n",
        "vpp"
      ],
      "metadata": {
        "colab": {
          "base_uri": "https://localhost:8080/"
        },
        "id": "Od8ngKuXBoWT",
        "outputId": "025275a3-1fef-4dd5-92ca-421a70a43c32"
      },
      "execution_count": 125,
      "outputs": [
        {
          "output_type": "execute_result",
          "data": {
            "text/plain": [
              "474.60053359431186"
            ]
          },
          "metadata": {},
          "execution_count": 125
        }
      ]
    },
    {
      "cell_type": "code",
      "source": [
        "((vpp-promedio_empirico)/promedio_empirico)*100#el error no es de mas del 0.6 % entonces no difiere demasiado del valor empirico"
      ],
      "metadata": {
        "colab": {
          "base_uri": "https://localhost:8080/"
        },
        "id": "zrYw-meQDaaW",
        "outputId": "34f56d35-c5ad-4fc8-b553-a57eac9932a3"
      },
      "execution_count": 127,
      "outputs": [
        {
          "output_type": "execute_result",
          "data": {
            "text/plain": [
              "0.51817247866288"
            ]
          },
          "metadata": {},
          "execution_count": 127
        }
      ]
    },
    {
      "cell_type": "code",
      "source": [
        "#velocidad cuadratica media\n",
        "vp2=np.sqrt((3*a[\"x\"][0]*8.314)/0.028)\n",
        "vp2"
      ],
      "metadata": {
        "colab": {
          "base_uri": "https://localhost:8080/"
        },
        "id": "93_QOotjCi89",
        "outputId": "3ad69056-10a7-4155-c50c-91298c26826e"
      },
      "execution_count": 124,
      "outputs": [
        {
          "output_type": "execute_result",
          "data": {
            "text/plain": [
              "515.1323122843008"
            ]
          },
          "metadata": {},
          "execution_count": 124
        }
      ]
    },
    {
      "cell_type": "code",
      "source": [
        "def joint2(T,v):\n",
        "  z=0\n",
        "  for i in range(len(v)):\n",
        "    z+=np.log((likelihood(v[i],T)))\n",
        "  return z"
      ],
      "metadata": {
        "id": "AANWGSTSMbr0"
      },
      "execution_count": 162,
      "outputs": []
    },
    {
      "cell_type": "code",
      "source": [
        "def LogPosterior(p,x):\n",
        "\n",
        "  LogP = LogPrior(p)\n",
        "  if not np.isfinite(LogP):\n",
        "    return -np.inf\n",
        "  else:\n",
        "    return LogP + joint2(p,x)"
      ],
      "metadata": {
        "id": "Qz3eKCtENXF_"
      },
      "execution_count": 165,
      "outputs": []
    },
    {
      "cell_type": "code",
      "source": [
        "\n",
        "LogPosterior(200,datos)\n",
        ""
      ],
      "metadata": {
        "colab": {
          "base_uri": "https://localhost:8080/"
        },
        "id": "PoUfxELNWHAL",
        "outputId": "79cb015d-2a8a-4a4e-db79-11a23c535949"
      },
      "execution_count": 166,
      "outputs": [
        {
          "output_type": "execute_result",
          "data": {
            "text/plain": [
              "-20564.30491842659"
            ]
          },
          "metadata": {},
          "execution_count": 166
        }
      ]
    },
    {
      "cell_type": "code",
      "source": [
        "n_walkers, n_params = 10,1\n",
        "p0 = np.zeros((n_walkers, n_params))\n",
        "p0[:,0] = 200\n",
        "\n",
        "p0 += np.random.rand(n_walkers, n_params)*10\n",
        ""
      ],
      "metadata": {
        "id": "3pNcCBIkWPza"
      },
      "execution_count": 173,
      "outputs": []
    },
    {
      "cell_type": "code",
      "source": [
        "p0"
      ],
      "metadata": {
        "colab": {
          "base_uri": "https://localhost:8080/"
        },
        "id": "GIpXKq3YbBmq",
        "outputId": "81cca7b3-dead-4eba-9d8a-793b9a61d2c7"
      },
      "execution_count": 174,
      "outputs": [
        {
          "output_type": "execute_result",
          "data": {
            "text/plain": [
              "array([[207.99383181],\n",
              "       [209.59898308],\n",
              "       [206.17414029],\n",
              "       [205.59399823],\n",
              "       [208.7449704 ],\n",
              "       [206.60135513],\n",
              "       [209.34597523],\n",
              "       [209.23848993],\n",
              "       [204.11294131],\n",
              "       [209.95421323]])"
            ]
          },
          "metadata": {},
          "execution_count": 174
        }
      ]
    },
    {
      "cell_type": "code",
      "source": [
        "\n",
        "sampler = emcee.EnsembleSampler(n_walkers, n_params, LogPosterior, args=(datos,))\n",
        "pos,prob,state = sampler.run_mcmc(p0,10000,progress=True)"
      ],
      "metadata": {
        "colab": {
          "base_uri": "https://localhost:8080/"
        },
        "id": "nsGLHIPtbClR",
        "outputId": "d2167713-1d75-41b8-b0a8-236e4b0589c0"
      },
      "execution_count": 196,
      "outputs": [
        {
          "output_type": "stream",
          "name": "stderr",
          "text": [
            "100%|██████████| 10000/10000 [1:32:57<00:00,  1.79it/s]\n"
          ]
        }
      ]
    },
    {
      "cell_type": "code",
      "source": [
        "fig, axes = plt.subplots(1, figsize=(10,5), sharex=True)\n",
        "\n",
        "samples = sampler.get_chain()\n",
        "labels = [\"temperatura\"]\n",
        "\n",
        "ax = axes\n",
        "ax.plot(samples[:, 0], \"k\", alpha=0.3)\n",
        ""
      ],
      "metadata": {
        "colab": {
          "base_uri": "https://localhost:8080/",
          "height": 462
        },
        "id": "C46RGiT0bXUg",
        "outputId": "f94ccc8e-688a-4473-f349-160221345fbe"
      },
      "execution_count": 198,
      "outputs": [
        {
          "output_type": "execute_result",
          "data": {
            "text/plain": [
              "[<matplotlib.lines.Line2D at 0x793ad59084f0>]"
            ]
          },
          "metadata": {},
          "execution_count": 198
        },
        {
          "output_type": "display_data",
          "data": {
            "text/plain": [
              "<Figure size 1000x500 with 1 Axes>"
            ],
            "image/png": "[encoded data removed]"
          },
          "metadata": {}
        }
      ]
    },
    {
      "cell_type": "code",
      "source": [
        "\n",
        "flat_samples = sampler.get_chain(discard=100, thin=15, flat=True)\n",
        "truths = np.percentile(flat_samples, 50, axis=0)\n",
        "truths"
      ],
      "metadata": {
        "colab": {
          "base_uri": "https://localhost:8080/"
        },
        "id": "CQKrE6KhcI6t",
        "outputId": "387349e2-5cd8-4ec4-93eb-c45e9c52777c"
      },
      "execution_count": 199,
      "outputs": [
        {
          "output_type": "execute_result",
          "data": {
            "text/plain": [
              "array([298.00046244])"
            ]
          },
          "metadata": {},
          "execution_count": 199
        }
      ]
    },
    {
      "cell_type": "code",
      "source": [
        "figure = corner.corner(flat_samples, labels=labels, quantiles=[0.025, 0.5, 0.975], show_titles=True)\n"
      ],
      "metadata": {
        "colab": {
          "base_uri": "https://localhost:8080/",
          "height": 337
        },
        "id": "pIkDv_mQeqBv",
        "outputId": "08f61e9e-297f-4bcb-db1e-abda3aaa582c"
      },
      "execution_count": 200,
      "outputs": [
        {
          "output_type": "display_data",
          "data": {
            "text/plain": [
              "<Figure size 340x340 with 1 Axes>"
            ],
            "image/png": "[encoded data removed]"
          },
          "metadata": {}
        }
      ]
    },
    {
      "cell_type": "code",
      "source": [
        "\n",
        "upperlimits = np.percentile(flat_samples, [0,95], axis=0)\n",
        "upperlimits\n",
        ""
      ],
      "metadata": {
        "colab": {
          "base_uri": "https://localhost:8080/"
        },
        "id": "jQlqYvCzfQp6",
        "outputId": "b0ae1365-8471-4fe4-d607-9d8b72e5900f"
      },
      "execution_count": 201,
      "outputs": [
        {
          "output_type": "execute_result",
          "data": {
            "text/plain": [
              "array([[278.60140595],\n",
              "       [305.27477387]])"
            ]
          },
          "metadata": {},
          "execution_count": 201
        }
      ]
    },
    {
      "cell_type": "code",
      "source": [
        "error_estandar = np.std(flat_samples)\n",
        "print(f\"Error estándar de la estimación: {error_estandar:.4f}\")"
      ],
      "metadata": {
        "colab": {
          "base_uri": "https://localhost:8080/"
        },
        "id": "Vy0Q_SAdhrvI",
        "outputId": "3e582731-54bd-4fd2-c3c1-3207ac1af22f"
      },
      "execution_count": 202,
      "outputs": [
        {
          "output_type": "stream",
          "name": "stdout",
          "text": [
            "Error estándar de la estimación: 4.4649\n"
          ]
        }
      ]
    },
    {
      "cell_type": "code",
      "source": [
        "#empieza a descartar desde:\n",
        "upperlimits[1]"
      ],
      "metadata": {
        "colab": {
          "base_uri": "https://localhost:8080/"
        },
        "id": "NVG4vK60f9ZP",
        "outputId": "aeb88909-2815-4b35-d5e1-bfc953ebf736"
      },
      "execution_count": 203,
      "outputs": [
        {
          "output_type": "execute_result",
          "data": {
            "text/plain": [
              "array([305.27477387])"
            ]
          },
          "metadata": {},
          "execution_count": 203
        }
      ]
    },
    {
      "cell_type": "code",
      "source": [],
      "metadata": {
        "id": "r5S85hw-i6bn"
      },
      "execution_count": null,
      "outputs": []
    },
    {
      "cell_type": "markdown",
      "source": [],
      "metadata": {
        "id": "Ee2i29MGmnlz"
      }
    }
  ]
}